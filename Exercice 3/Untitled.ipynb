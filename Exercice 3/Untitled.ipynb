{
 "cells": [
  {
   "cell_type": "code",
   "execution_count": 1,
   "metadata": {},
   "outputs": [],
   "source": [
    "import numpy as np\n",
    "import pandas\n",
    "data = pandas.read_csv(\"kc_house_data.csv\")"
   ]
  },
  {
   "cell_type": "code",
   "execution_count": 46,
   "metadata": {},
   "outputs": [],
   "source": [
    "Y = np.matrix(data['price']).T\n",
    "x = data\n",
    "x.drop(['price'],axis = 1)\n",
    "features = ['bedrooms','bathrooms','sqft_living','sqft_lot','floors','sqft_above','sqft_basement']\n",
    "H = x[features]\n",
    "H.insert(0,'intercept',1)\n",
    "d = x.shape[1]\n",
    "D = H.shape[1]\n",
    "N = len(H)"
   ]
  },
  {
   "cell_type": "code",
   "execution_count": 47,
   "metadata": {},
   "outputs": [],
   "source": [
    "H = np.matrix(H)\n",
    "HT = H.T\n",
    "temp1 = HT*H\n",
    "temp1 = temp1.I\n",
    "temp2 = temp1*HT\n",
    "w = temp2* Y"
   ]
  },
  {
   "cell_type": "code",
   "execution_count": 51,
   "metadata": {},
   "outputs": [
    {
     "data": {
      "text/plain": [
       "matrix([[-4.94530553e+05],\n",
       "        [-1.90390671e+07],\n",
       "        [ 2.67749182e+07],\n",
       "        [ 2.83129411e+02],\n",
       "        [-9.71680237e+00],\n",
       "        [-3.34825419e+05],\n",
       "        [ 1.58685090e+03],\n",
       "        [ 3.12575173e+03]])"
      ]
     },
     "execution_count": 51,
     "metadata": {},
     "output_type": "execute_result"
    }
   ],
   "source": [
    "w"
   ]
  },
  {
   "cell_type": "code",
   "execution_count": null,
   "metadata": {},
   "outputs": [],
   "source": []
  }
 ],
 "metadata": {
  "kernelspec": {
   "display_name": "Python 3",
   "language": "python",
   "name": "python3"
  },
  "language_info": {
   "codemirror_mode": {
    "name": "ipython",
    "version": 3
   },
   "file_extension": ".py",
   "mimetype": "text/x-python",
   "name": "python",
   "nbconvert_exporter": "python",
   "pygments_lexer": "ipython3",
   "version": "3.7.4"
  }
 },
 "nbformat": 4,
 "nbformat_minor": 2
}
